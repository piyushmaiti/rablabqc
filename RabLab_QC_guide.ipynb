{
 "cells": [
  {
   "cell_type": "code",
   "execution_count": 1,
   "metadata": {},
   "outputs": [],
   "source": [
    "import os\n",
    "import sys\n",
    "import shutil\n",
    "import subprocess \n",
    "import nibabel as nib\n",
    "from nibabel.orientations import io_orientation, axcodes2ornt"
   ]
  },
  {
   "cell_type": "markdown",
   "metadata": {},
   "source": [
    "### Setting the rablab qc package path "
   ]
  },
  {
   "cell_type": "code",
   "execution_count": 2,
   "metadata": {},
   "outputs": [
    {
     "name": "stdout",
     "output_type": "stream",
     "text": [
      "RabLab QC path: /home/mac/pmaiti/Desktop/leads_qc/rablabqc\n"
     ]
    }
   ],
   "source": [
    "try:\n",
    "    # If running as a script\n",
    "    rablab_pkg_path = os.path.dirname(os.path.abspath(__file__))\n",
    "except NameError:\n",
    "    \n",
    "    rablab_pkg_path = os.getcwd()\n",
    "sys.path.append(rablab_pkg_path)\n",
    "print(\"RabLab QC path:\", rablab_pkg_path)\n",
    "\n",
    "from mri_slices import MRIQCplots\n",
    "from fbb_slices import FBBQCplots\n",
    "from ftp_slices import FTPQCplots\n",
    "from fdg_slices import FDGQCplots\n",
    "from slice_selector import SliceSelector"
   ]
  },
  {
   "cell_type": "markdown",
   "metadata": {},
   "source": [
    "#### Setting the Paths"
   ]
  },
  {
   "cell_type": "code",
   "execution_count": 3,
   "metadata": {},
   "outputs": [],
   "source": [
    "tpm_file = os.path.join(rablab_pkg_path,'TPM.nii')\n",
    "\n",
    "rtpm_path = os.path.join(rablab_pkg_path, 'reslice', 'rT1.nii') # Resliced T1 file to 1mm isotropic resolution\n",
    "reslice_matlab_script = os.path.join(rablab_pkg_path,'reslice', 'reslice.m')\n",
    "\n",
    "mask_reslice_matlab_script = os.path.join(rablab_pkg_path, 'reslice', 'mask_reslice.m')\n",
    "\n",
    "tmp_folder = os.path.join('/tmp/')"
   ]
  },
  {
   "cell_type": "markdown",
   "metadata": {},
   "source": [
    "#### Functions to load nifti images. \n",
    "- The images are co-registered to the T1.nii and then loaded"
   ]
  },
  {
   "cell_type": "code",
   "execution_count": null,
   "metadata": {},
   "outputs": [],
   "source": [
    "def generate_matlab_script(path, output_script_path):\n",
    "        \"\"\"\n",
    "        This function generates a MATLAB script to reslice the image.\n",
    "        \"\"\"\n",
    "        \n",
    "        with open(reslice_matlab_script, 'r') as template_file:\n",
    "            script_content = template_file.read()\n",
    "\n",
    "        script_content = script_content.replace('<RTPM_PATH>', rtpm_path)\n",
    "        script_content = script_content.replace('<DATA_PATH>', path)\n",
    "        \n",
    "        \n",
    "        with open(output_script_path, 'w') as script_file:\n",
    "            script_file.write(script_content)\n",
    "\n",
    "\n",
    "def generate_mask_reslice_mtlb(path, output_script_path):\n",
    "    \"\"\"\n",
    "    This function generates a MATLAB script to reslice the mask image.\n",
    "    \"\"\"\n",
    "    \n",
    "    #with open('/home/mac/pmaiti/Desktop/leads_qc/reslice_test/mask_reslice.m', 'r') as template_file:\n",
    "    with open(mask_reslice_matlab_script, 'r') as template_file:\n",
    "        script_content = template_file.read()\n",
    "\n",
    "    # Replace placeholders with actual paths\n",
    "    script_content = script_content.replace('<RTPM_PATH>', rtpm_path)\n",
    "    script_content = script_content.replace('<DATA_PATH>', path)\n",
    "    \n",
    "    # Write the modified script to the output path\n",
    "    with open(output_script_path, 'w') as script_file:\n",
    "        script_file.write(script_content)\n",
    "\n",
    "\n",
    "def load_nii_resliced(path, orientation=\"LAS\", mask=False):\n",
    "    \"\"\"\n",
    "    Load nifti image with specified orientation\n",
    "    \"\"\"\n",
    "    \n",
    "    id = path.split('/')[-1].split('.')[0]\n",
    "\n",
    "    tmp_folder = os.path.join('/tmp/')\n",
    "\n",
    "    resliced_image_path = os.path.join(tmp_folder, id, 'qc' + id + '.nii')\n",
    "    \n",
    "    if not os.path.exists(resliced_image_path):\n",
    "        \n",
    "        # Check if the temporary folder with the id exists\n",
    "        tmp_id_folder = os.path.join(tmp_folder, id)\n",
    "        if not os.path.exists(tmp_id_folder):\n",
    "            os.makedirs(tmp_id_folder)\n",
    "        \n",
    "        # Copy the image to the temporary id folder\n",
    "        tmp_file = os.path.join(tmp_id_folder, id + '.nii')\n",
    "        shutil.copy2(path, tmp_file)\n",
    "        print(tmp_file)\n",
    "        \n",
    "        if mask:\n",
    "            output_script_path = os.path.join(tmp_id_folder, 'mask_reslice.m')\n",
    "            generate_mask_reslice_mtlb(tmp_file, output_script_path)\n",
    "        else:\n",
    "            output_script_path = os.path.join(tmp_id_folder, 'reslice.m')\n",
    "            generate_matlab_script(tmp_file, output_script_path)\n",
    "            \n",
    "        # Command to run the MATLAB script\n",
    "        command = f\"matlab -nodisplay -nosplash -r \\\"run('{output_script_path}');exit;\\\"\"\n",
    "        \n",
    "        # Run the command\n",
    "        matprocess = subprocess.run(command, shell=True, capture_output=True, text=True)\n",
    "        print(\"Output:\\n\", matprocess.stdout)\n",
    "\n",
    "    else:\n",
    "        print(\"Resliced image already exists for \", id, \". Loading the resliced image...\")\n",
    "        \n",
    "    img = nib.load(resliced_image_path)\n",
    "    img_ornt = io_orientation(img.affine)\n",
    "    new_ornt = axcodes2ornt(orientation)\n",
    "    img = img.as_reoriented(img_ornt)\n",
    "    return img.get_fdata()"
   ]
  },
  {
   "cell_type": "markdown",
   "metadata": {},
   "source": [
    "# Test \n"
   ]
  },
  {
   "cell_type": "markdown",
   "metadata": {},
   "source": [
    "# LDS0730083\n",
    "aparc_file = ('/mnt/coredata/processing/leads/data/processed/LDS0730083/MRI-T1_2019-06-24/LDS0730083_MRI-T1_2019-06-24_aparc+aseg.nii')\n",
    "aparc_img = load_nii_resliced(aparc_file, orientation=\"LAS\", mask=True)\n",
    "select_axial_slices, select_coronal_slices, select_sagittal_slices = SliceSelector(aparc_img).select_leads_slices()\n",
    "\n",
    "MRIQCplots(nu_img= '/mnt/coredata/processing/leads/data/processed/LDS0730083/MRI-T1_2019-06-24/LDS0730083_MRI-T1_2019-06-24_nu.nii',\n",
    "           axial_slices = select_axial_slices, coronal_slices = select_coronal_slices, \n",
    "           aparc_img='/mnt/coredata/processing/leads/data/processed/LDS0730083/MRI-T1_2019-06-24/LDS0730083_MRI-T1_2019-06-24_aparc+aseg.nii',\n",
    "           sagittal_slices = select_sagittal_slices,\n",
    "           crop_neck=True).plot_slices('/shared/petcore/Projects/LEADS/data_f7p1/summary/piyush_qc/')"
   ]
  },
  {
   "cell_type": "code",
   "execution_count": null,
   "metadata": {},
   "outputs": [],
   "source": [
    "\n",
    "processed_path = '/mnt/coredata/processing/leads/data/processed/'\n",
    "# Read the nifti file\n",
    "aparc_file = ('/mnt/coredata/processing/leads/data/processed/LDS1770670/MRI-T1_2023-08-29/LDS1770670_MRI-T1_2023-08-29_aparc+aseg.nii')\n",
    "aparc_img = load_nii_resliced(aparc_file, orientation=\"LAS\", mask=True)\n"
   ]
  },
  {
   "cell_type": "markdown",
   "metadata": {},
   "source": [
    "## Slice Selections"
   ]
  },
  {
   "cell_type": "code",
   "execution_count": null,
   "metadata": {},
   "outputs": [],
   "source": [
    "select_axial_slices, select_coronal_slices, select_sagittal_slices = SliceSelector(aparc_img).select_leads_slices()"
   ]
  },
  {
   "cell_type": "markdown",
   "metadata": {},
   "source": [
    "## Generating the MRI images for QC"
   ]
  },
  {
   "cell_type": "code",
   "execution_count": null,
   "metadata": {},
   "outputs": [],
   "source": [
    "MRIQCplots(nu_img= '/mnt/coredata/processing/leads/data/processed/LDS1770670/MRI-T1_2023-08-29/LDS1770670_MRI-T1_2023-08-29_nu.nii',\n",
    "           axial_slices = select_axial_slices, coronal_slices = select_coronal_slices, \n",
    "           aparc_img='/mnt/coredata/processing/leads/data/processed/LDS1770670/MRI-T1_2023-08-29/LDS1770670_MRI-T1_2023-08-29_aparc+aseg.nii',\n",
    "           c1_img='/mnt/coredata/processing/leads/data/processed/LDS1770670/MRI-T1_2023-08-29/c1LDS1770670_MRI-T1_2023-08-29_nu.nii',\n",
    "           affine_nu_img='/mnt/coredata/processing/leads/data/processed/LDS1770670/MRI-T1_2023-08-29/aLDS1770670_MRI-T1_2023-08-29_nu.nii',\n",
    "           warped_nu_img ='/mnt/coredata/processing/leads/data/processed/LDS1770670/MRI-T1_2023-08-29/wLDS1770670_MRI-T1_2023-08-29_nu.nii',\n",
    "           sagittal_slices = select_sagittal_slices).plot_slices('/shared/petcore/Projects/LEADS/data_f7p1/summary/piyush_qc/')"
   ]
  },
  {
   "cell_type": "markdown",
   "metadata": {},
   "source": [
    "## Generating the Amyloid (FBB/FBP) images for QC"
   ]
  },
  {
   "cell_type": "code",
   "execution_count": null,
   "metadata": {},
   "outputs": [],
   "source": [
    "FBBQCplots(suvr_img='/mnt/coredata/processing/leads/data/processed/LDS1770670/FBB_2023-10-03/rLDS1770670_FBB_2023-10-03_suvr-wcbl.nii',\n",
    "        axial_slices = select_axial_slices, coronal_slices = select_coronal_slices, sagittal_slices = select_sagittal_slices,\n",
    "        nu_img= '/mnt/coredata/processing/leads/data/processed/LDS1770670/MRI-T1_2023-08-29/LDS1770670_MRI-T1_2023-08-29_nu.nii',\n",
    "        aparc_img='/mnt/coredata/processing/leads/data/processed/LDS1770670/MRI-T1_2023-08-29/LDS1770670_MRI-T1_2023-08-29_aparc+aseg.nii',\n",
    "        c1_img='/mnt/coredata/processing/leads/data/processed/LDS1770670/MRI-T1_2023-08-29/c1LDS1770670_MRI-T1_2023-08-29_nu.nii',\n",
    "        affine_nu_img='/mnt/coredata/processing/leads/data/processed/LDS1770670/MRI-T1_2023-08-29/aLDS1770670_MRI-T1_2023-08-29_nu.nii',\n",
    "        warped_nu_img ='/mnt/coredata/processing/leads/data/processed/LDS1770670/MRI-T1_2023-08-29/wLDS1770670_MRI-T1_2023-08-29_nu.nii',\n",
    "        reference_region_1 = '/mnt/coredata/processing/leads/data/processed/LDS1770670/MRI-T1_2023-08-29/LDS1770670_MRI-T1_2023-08-29_mask-wcbl.nii',\n",
    "        reference_region_2 = '/mnt/coredata/processing/leads/data/processed/LDS1770670/MRI-T1_2023-08-29/LDS1770670_MRI-T1_2023-08-29_mask-eroded-subcortwm.nii',\n",
    "        reference_region_3 = '/mnt/coredata/processing/leads/data/processed/LDS1770670/MRI-T1_2023-08-29/LDS1770670_MRI-T1_2023-08-29_mask-brainstem.nii',\n",
    "        affine_suvr_img = '/mnt/coredata/processing/leads/data/processed/LDS1770670/FBB_2023-10-03/arLDS1770670_FBB_2023-10-03_suvr-wcbl.nii',\n",
    "        warped_suvr_img = '/mnt/coredata/processing/leads/data/processed/LDS1770670/FBB_2023-10-03/wrLDS1770670_FBB_2023-10-03_suvr-wcbl.nii'\n",
    "        ).plot_slices('/shared/petcore/Projects/LEADS/data_f7p1/summary/piyush_qc/')"
   ]
  },
  {
   "cell_type": "markdown",
   "metadata": {},
   "source": [
    "## Generating the FTP images for QC"
   ]
  },
  {
   "cell_type": "code",
   "execution_count": null,
   "metadata": {},
   "outputs": [],
   "source": [
    "FTPQCplots(suvr_img='/mnt/coredata/processing/leads/data/processed/LDS1770670/FTP_2023-09-21/rLDS1770670_FTP_2023-09-21_suvr-infcblgm.nii',\n",
    "        axial_slices = select_axial_slices, coronal_slices = select_coronal_slices, sagittal_slices = select_sagittal_slices,\n",
    "        nu_img= '/mnt/coredata/processing/leads/data/processed/LDS1770670/MRI-T1_2023-08-29/LDS1770670_MRI-T1_2023-08-29_nu.nii',\n",
    "        aparc_img='/mnt/coredata/processing/leads/data/processed/LDS1770670/MRI-T1_2023-08-29/LDS1770670_MRI-T1_2023-08-29_aparc+aseg.nii',\n",
    "        c1_img='/mnt/coredata/processing/leads/data/processed/LDS1770670/MRI-T1_2023-08-29/c1LDS1770670_MRI-T1_2023-08-29_nu.nii',\n",
    "        affine_nu_img='/mnt/coredata/processing/leads/data/processed/LDS1770670/MRI-T1_2023-08-29/aLDS1770670_MRI-T1_2023-08-29_nu.nii',\n",
    "        warped_nu_img ='/mnt/coredata/processing/leads/data/processed/LDS1770670/MRI-T1_2023-08-29/wLDS1770670_MRI-T1_2023-08-29_nu.nii',\n",
    "        reference_region_1 = '/mnt/coredata/processing/leads/data/processed/LDS1770670/MRI-T1_2023-08-29/LDS1770670_MRI-T1_2023-08-29_mask-infcblgm.nii',\n",
    "        reference_region_2 = '/mnt/coredata/processing/leads/data/processed/LDS1770670/MRI-T1_2023-08-29/LDS1770670_MRI-T1_2023-08-29_mask-eroded-subcortwm.nii',\n",
    "        affine_suvr_img = '/mnt/coredata/processing/leads/data/processed/LDS1770670/FTP_2023-09-21/arLDS1770670_FTP_2023-09-21_suvr-infcblgm.nii',\n",
    "        warped_suvr_img = '/mnt/coredata/processing/leads/data/processed/LDS1770670/FTP_2023-09-21/wrLDS1770670_FTP_2023-09-21_suvr-infcblgm.nii'\n",
    "        ).plot_slices('/shared/petcore/Projects/LEADS/data_f7p1/summary/piyush_qc/')\n"
   ]
  },
  {
   "cell_type": "markdown",
   "metadata": {},
   "source": [
    "## Generating the FDG images for QC"
   ]
  },
  {
   "cell_type": "code",
   "execution_count": null,
   "metadata": {},
   "outputs": [],
   "source": [
    "\n",
    "FDGQCplots(suvr_img='/mnt/coredata/processing/leads/data/processed/LDS1770670/FDG_2023-11-06/rLDS1770670_FDG_2023-11-06_suvr-pons.nii',\n",
    "        axial_slices = select_axial_slices, coronal_slices = select_coronal_slices, sagittal_slices = select_sagittal_slices,\n",
    "\n",
    "        nu_img= '/mnt/coredata/processing/leads/data/processed/LDS1770670/MRI-T1_2023-08-29/LDS1770670_MRI-T1_2023-08-29_nu.nii',\n",
    "        aparc_img='/mnt/coredata/processing/leads/data/processed/LDS1770670/MRI-T1_2023-08-29/LDS1770670_MRI-T1_2023-08-29_aparc+aseg.nii',\n",
    "        c1_img='/mnt/coredata/processing/leads/data/processed/LDS1770670/MRI-T1_2023-08-29/c1LDS1770670_MRI-T1_2023-08-29_nu.nii',\n",
    "        affine_nu_img='/mnt/coredata/processing/leads/data/processed/LDS1770670/MRI-T1_2023-08-29/aLDS1770670_MRI-T1_2023-08-29_nu.nii',\n",
    "        warped_nu_img ='/mnt/coredata/processing/leads/data/processed/LDS1770670/MRI-T1_2023-08-29/wLDS1770670_MRI-T1_2023-08-29_nu.nii',\n",
    "        \n",
    "        reference_region_1 = '/mnt/coredata/processing/leads/data/processed/LDS1770670/MRI-T1_2023-08-29/LDS1770670_MRI-T1_2023-08-29_mask-pons.nii',\n",
    "\n",
    "        affine_suvr_img = '/mnt/coredata/processing/leads/data/processed/LDS1770670/FDG_2023-11-06/arLDS1770670_FDG_2023-11-06_suvr-pons.nii',\n",
    "        warped_suvr_img = '/mnt/coredata/processing/leads/data/processed/LDS1770670/FDG_2023-11-06/wrLDS1770670_FDG_2023-11-06_suvr-pons.nii'\n",
    "        ).plot_slices('/shared/petcore/Projects/LEADS/data_f7p1/summary/piyush_qc/')\n",
    "\n"
   ]
  },
  {
   "cell_type": "markdown",
   "metadata": {},
   "source": [
    "# Optional flags"
   ]
  },
  {
   "cell_type": "code",
   "execution_count": null,
   "metadata": {},
   "outputs": [],
   "source": [
    "FTPQCplots(suvr_img='/mnt/coredata/processing/leads/data/processed/LDS1770670/FTP_2023-09-21/rLDS1770670_FTP_2023-09-21_suvr-infcblgm.nii',\n",
    "        axial_slices = select_axial_slices, coronal_slices = select_coronal_slices, sagittal_slices = select_sagittal_slices,\n",
    "        nu_img= '/mnt/coredata/processing/leads/data/processed/LDS1770670/MRI-T1_2023-08-29/LDS1770670_MRI-T1_2023-08-29_nu.nii',\n",
    "        aparc_img='/mnt/coredata/processing/leads/data/processed/LDS1770670/MRI-T1_2023-08-29/LDS1770670_MRI-T1_2023-08-29_aparc+aseg.nii',\n",
    "        c1_img='/mnt/coredata/processing/leads/data/processed/LDS1770670/MRI-T1_2023-08-29/c1LDS1770670_MRI-T1_2023-08-29_nu.nii',\n",
    "        ).plot_slices('/shared/petcore/Projects/LEADS/data_f7p1/summary/piyush_qc/')\n"
   ]
  },
  {
   "cell_type": "code",
   "execution_count": null,
   "metadata": {},
   "outputs": [],
   "source": [
    "FBBQCplots(suvr_img='/mnt/coredata/processing/leads/data/processed/LDS1770670/FBB_2023-10-03/rLDS1770670_FBB_2023-10-03_suvr-wcbl.nii',\n",
    "        axial_slices = select_axial_slices, coronal_slices = select_coronal_slices, sagittal_slices = select_sagittal_slices,\n",
    "        nu_img= '/mnt/coredata/processing/leads/data/processed/LDS1770670/MRI-T1_2023-08-29/LDS1770670_MRI-T1_2023-08-29_nu.nii',\n",
    "        aparc_img='/mnt/coredata/processing/leads/data/processed/LDS1770670/MRI-T1_2023-08-29/LDS1770670_MRI-T1_2023-08-29_aparc+aseg.nii',\n",
    "        c1_img='/mnt/coredata/processing/leads/data/processed/LDS1770670/MRI-T1_2023-08-29/c1LDS1770670_MRI-T1_2023-08-29_nu.nii',\n",
    "        ).plot_slices('/shared/petcore/Projects/LEADS/data_f7p1/summary/piyush_qc/')"
   ]
  },
  {
   "cell_type": "code",
   "execution_count": null,
   "metadata": {},
   "outputs": [],
   "source": [
    "# Check this on Kamalinis data\n",
    "# LDS0730083\n",
    "aparc_file = ('/mnt/coredata/Projects/data_requests/2024-06-04_kamalini_ftp_dk-all/23739/FTP_2018-05-15/raparc_aseg.nii')\n",
    "aparc_img = load_nii_resliced(aparc_file, orientation=\"LAS\", mask=True)\n",
    "select_axial_slices, select_coronal_slices, select_sagittal_slices = SliceSelector(aparc_img).select_leads_slices()\n",
    "\n",
    "MRIQCplots(nu_img= '/mnt/coredata/Projects/data_requests/2024-06-04_kamalini_ftp_dk-all/23739/FTP_2018-05-15/rnu.nii',\n",
    "           axial_slices = select_axial_slices, coronal_slices = select_coronal_slices, \n",
    "           aparc_img='/mnt/coredata/Projects/data_requests/2024-06-04_kamalini_ftp_dk-all/23739/FTP_2018-05-15/raparc_aseg.nii',\n",
    "           sagittal_slices = select_sagittal_slices,\n",
    "           crop_neck=True).plot_slices('/shared/petcore/Projects/LEADS/data_f7p1/summary/piyush_qc/')"
   ]
  },
  {
   "cell_type": "markdown",
   "metadata": {},
   "source": [
    "Training Images"
   ]
  },
  {
   "cell_type": "code",
   "execution_count": null,
   "metadata": {},
   "outputs": [],
   "source": [
    "\n",
    "# Read the nifti file\n",
    "aparc_file = ('/mnt/coredata/processing/leads/data/processed/LDS0070199/MRI-T1_2020-11-04/LDS0070199_MRI-T1_2020-11-04_aparc+aseg.nii')\n",
    "aparc_img = load_nii_resliced(aparc_file, orientation=\"LAS\", mask=True)\n",
    "\n",
    "select_axial_slices, select_coronal_slices, select_sagittal_slices = SliceSelector(aparc_img).select_leads_slices()"
   ]
  },
  {
   "cell_type": "code",
   "execution_count": null,
   "metadata": {},
   "outputs": [],
   "source": [
    "FTPQCplots(suvr_img='/shared/petcore/Projects/LEADS/data_f7p1/summary/piyush_qc/qc_training_thursday_refroi/rLDS0070199_FTP_2020-11-04_suvr-infcblgm.nii',\n",
    "        axial_slices = select_axial_slices, coronal_slices = select_coronal_slices, sagittal_slices = select_sagittal_slices,\n",
    "        nu_img= '/shared/petcore/Projects/LEADS/data_f7p1/summary/piyush_qc/qc_training_thursday_refroi/LDS0070199_MRI-T1_2020-11-04_nu.nii',\n",
    "        aparc_img='/mnt/coredata/processing/leads/data/processed/LDS1770670/MRI-T1_2023-08-29/LDS1770670_MRI-T1_2023-08-29_aparc+aseg.nii',\n",
    "        c1_img='/shared/petcore/Projects/LEADS/data_f7p1/summary/piyush_qc/qc_training_thursday_refroi/c1LDS0070199_MRI-T1_2020-11-04_nu.nii',\n",
    "        affine_nu_img='/mnt/coredata/processing/leads/data/processed/LDS0070199/MRI-T1_2020-11-04/aLDS0070199_MRI-T1_2020-11-04_nu.nii',\n",
    "        warped_nu_img ='/mnt/coredata/processing/leads/data/processed/LDS0070199/MRI-T1_2020-11-04/wLDS0070199_MRI-T1_2020-11-04_nu.nii',\n",
    "        reference_region_1 = '/shared/petcore/Projects/LEADS/data_f7p1/summary/piyush_qc/qc_training_thursday_refroi/LDS0070199_MRI-T1_2020-11-04_mask-infcblgm.nii',\n",
    "        reference_region_2 = '/shared/petcore/Projects/LEADS/data_f7p1/summary/piyush_qc/qc_training_thursday_refroi/LDS0070199_MRI-T1_2020-11-04_mask-eroded-subcortwm.nii',\n",
    "        affine_suvr_img = '/shared/petcore/Projects/LEADS/data_f7p1/summary/piyush_qc/qc_training_thursday_refroi/arLDS0070199_FTP_2020-11-04_suvr-infcblgm.nii',\n",
    "        warped_suvr_img = '/shared/petcore/Projects/LEADS/data_f7p1/summary/piyush_qc/qc_training_thursday_refroi/wrLDS0070199_FTP_2020-11-04_suvr-infcblgm.nii'\n",
    "        ).plot_slices('/shared/petcore/Projects/LEADS/data_f7p1/summary/piyush_qc/qc_training_thursday_refroi/')\n"
   ]
  },
  {
   "cell_type": "code",
   "execution_count": null,
   "metadata": {},
   "outputs": [],
   "source": []
  }
 ],
 "metadata": {
  "kernelspec": {
   "display_name": "Python 3 (ipykernel)",
   "language": "python",
   "name": "python3"
  },
  "language_info": {
   "codemirror_mode": {
    "name": "ipython",
    "version": 3
   },
   "file_extension": ".py",
   "mimetype": "text/x-python",
   "name": "python",
   "nbconvert_exporter": "python",
   "pygments_lexer": "ipython3",
   "version": "3.11.4"
  }
 },
 "nbformat": 4,
 "nbformat_minor": 4
}
